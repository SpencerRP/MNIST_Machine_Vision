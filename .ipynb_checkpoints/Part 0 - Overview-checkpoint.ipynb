{
 "cells": [
  {
   "cell_type": "markdown",
   "metadata": {},
   "source": [
    "#### What questions do I have?\n",
    "- What is the best way to perform blurring, noise removal in an image, pixel shifts, and deskewing?\n",
    "- When are more complicated models - i.e. neural nets - worthwhile?\n",
    "- Not relevant to this particular problem: Is there a way to make a single python file that unpacks itself into a set of directories?"
   ]
  },
  {
   "cell_type": "markdown",
   "metadata": {},
   "source": [
    "#### What, if anything, would I work on afterward?\n",
    "- Improving current models. Yann Lecun appears to have exhaustively addressed this problem, but perhaps further advancements can be made.\n",
    "- Potential adjustments for errors - I can't think of good ways to solve digit issues, but when it comes to hand-writing error correction methods presumably exist. I.e., match the finished version to a dictionary of spelling-correct words. If there are multiple potential results, use something akin to a markov thorn to determine which result is the most appropriate in the surrounding context."
   ]
  },
  {
   "cell_type": "markdown",
   "metadata": {},
   "source": [
    "This project deals with the MNIST dataset, available at Yann Lecun's website, located here: http://yann.lecun.com/exdb/mnist/. \n",
    "\n",
    "The dataset was converted and loaded using the python-mnist data parser, located here: https://pypi.python.org/pypi/python-mnist/0.3.\n",
    "\n",
    "## My presentation will be EDA -> Pre-Processing Methods -> Models -> Model Analysis\n",
    "\n",
    "### EDA:\n",
    "- Have a picture of each digit to demonstrate what they look like. \n",
    "- Have three pictures of 1 to demonstrate variation within the image.\n",
    "- Have block-aligned mean & standard deviation graphs for each digit.\n",
    "- Use t-sne https://lvdmaaten.github.io/tsne/ to create a visualization of how the digits are clustered. Example method of implementing: http://scikit-learn.org/stable/auto_examples/manifold/plot_compare_methods.html\n",
    "- Portray PCA components to demonstrate the effect thereof.\n",
    "\n",
    "### Pre-Processing Methods:\n",
    "- Deskewing \n",
    "    - https://fsix.github.io/mnist/Deskewing.html\n",
    "- Noise Removal \n",
    "    - http://scikit-image.org/docs/dev/auto_examples/filters/plot_denoise.html\n",
    "- Blurring \n",
    "    - https://github.com/scikit-image/scikit-image/blob/master/skimage/filters/_gaussian.py#L21\n",
    "    - https://mmeysenburg.github.io/image-processing/05-blurring/\n",
    "    - \n",
    "- 1 & 2 pixel shifts. \n",
    "    - https://stackoverflow.com/questions/42327501/efficient-way-to-shift-image-pixels-in-python\n",
    "    - https://dsp.stackexchange.com/questions/42952/create-images-with-sub-pixel-shift\n",
    "    \n",
    "### Models:\n",
    "- Linear Regression\n",
    "- K-Nearest Neighbors\n",
    "- Boosted Stumps\n",
    "- Non-Linear Classifiers\n",
    "- SVM's\n",
    "- Neural Nets\n",
    "- Convolutional Nets\n",
    "\n",
    "### Analysis:\n",
    "- Confusion Matrix\n",
    "- Which digits are most often confused with each other? Does this make sense?\n",
    "- What is the run-speed & processing power requirement of each model?"
   ]
  },
  {
   "cell_type": "markdown",
   "metadata": {},
   "source": []
  }
 ],
 "metadata": {
  "kernelspec": {
   "display_name": "Python 3",
   "language": "python",
   "name": "python3"
  },
  "language_info": {
   "codemirror_mode": {
    "name": "ipython",
    "version": 3
   },
   "file_extension": ".py",
   "mimetype": "text/x-python",
   "name": "python",
   "nbconvert_exporter": "python",
   "pygments_lexer": "ipython3",
   "version": "3.6.2"
  }
 },
 "nbformat": 4,
 "nbformat_minor": 2
}
