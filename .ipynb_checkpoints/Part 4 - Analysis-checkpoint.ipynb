{
 "cells": [
  {
   "cell_type": "code",
   "execution_count": 1,
   "metadata": {},
   "outputs": [
    {
     "name": "stdout",
     "output_type": "stream",
     "text": [
      "Requirement already satisfied: python-mnist in /usr/local/lib/python3.5/dist-packages\r\n"
     ]
    }
   ],
   "source": [
    "!pip install python-mnist"
   ]
  },
  {
   "cell_type": "code",
   "execution_count": 2,
   "metadata": {},
   "outputs": [],
   "source": [
    "%run __init__.py"
   ]
  },
  {
   "cell_type": "code",
   "execution_count": 3,
   "metadata": {},
   "outputs": [],
   "source": [
    "mndata = MNIST('../python-mnist/data/') #bring mnist training set into this notebook\n",
    "train_x, train_y = mndata.load_training()\n",
    "test_x, test_y = mndata.load_testing()"
   ]
  },
  {
   "cell_type": "code",
   "execution_count": 4,
   "metadata": {},
   "outputs": [],
   "source": [
    "train_x = np.array(train_x)\n",
    "train_y = np.array(train_y)\n",
    "test_x = np.array(test_x)\n",
    "test_y = np.array(test_y)"
   ]
  },
  {
   "cell_type": "code",
   "execution_count": 5,
   "metadata": {},
   "outputs": [
    {
     "data": {
      "text/plain": [
       "((60000, 784), 784, (60000,), (10000, 784), 784, (10000,))"
      ]
     },
     "execution_count": 5,
     "metadata": {},
     "output_type": "execute_result"
    }
   ],
   "source": [
    "train_x.shape, len(train_x[0]), train_y.shape, test_x.shape, len(test_x[0]), test_y.shape"
   ]
  },
  {
   "cell_type": "code",
   "execution_count": 6,
   "metadata": {},
   "outputs": [],
   "source": [
    "def conf_matrix(pred_y, real_y):\n",
    "    json_list = [];\n",
    "    for value in set(real_y): #For each unique prediction.\n",
    "        TP = sum(pred_y[real_y == value] == value) #When the real is the value, see if prediction is the value. TP\n",
    "        FP = sum(pred_y[real_y != value] == value) #When the real is not the value, see if the prediction is the value. FP\n",
    "        TN = sum(pred_y[real_y != value] != value) #When the real is not the value, see if the prediction is not the value. TN\n",
    "        FN = sum(pred_y[real_y == value] != value) #When the real is the value, see if the prediction is not the value. FN\n",
    "        a_dict = {'Actual_Value': value,\n",
    "                  'True Positive': TP,\n",
    "                  'False Positive': FP,\n",
    "                  'True Negative': TN,\n",
    "                  'False Negative': FN,\n",
    "                  'Sensitivity': TP/(TP+FN),\n",
    "                  'Specificity': TN/(FP+TN),\n",
    "                  'Accuracy': (TP+TN)/(TP+FP+FN+TN),\n",
    "                  'Precision': TP/(TP+FP)\n",
    "                 }\n",
    "        json_list.append(a_dict)\n",
    "    return pd.DataFrame(json_list)"
   ]
  },
  {
   "cell_type": "code",
   "execution_count": 28,
   "metadata": {},
   "outputs": [],
   "source": [
    "def common_errors(pred_y, real_y):\n",
    "    mistakes_dict_list = []\n",
    "    variables = sorted(list(set(real_y)))\n",
    "    for variable in variables: #for each unique real value\n",
    "        #Select the erroneous predictions.\n",
    "        is_variable_mask = real_y == variable\n",
    "        masked_preds = pred_y[is_variable_mask]\n",
    "        incorrect_preds_mask = masked_preds != variable\n",
    "        false_preds = masked_preds[incorrect_preds_mask]\n",
    "        \n",
    "        #Make a dict that holds each type of wrong prediction and the number of occurrences.\n",
    "        #Note: when other_variable == variable, the number of occurrences will be 0.\n",
    "        mistaken_as_dict = {str(other_variable):\\\n",
    "                            sum(false_preds == other_variable)\\\n",
    "                           for other_variable in variables}\n",
    "        \n",
    "        #add the real value to the dictionary to use as an index.\n",
    "        mistaken_as_dict['real_value'] = variable\n",
    "        \n",
    "        mistakes_dict_list.append(mistaken_as_dict)\n",
    "        #append it to the list of dictionaries\n",
    "        #return the list as a df\n",
    "    df = pd.DataFrame(mistakes_dict_list)\n",
    "    return df.set_index('real_value')"
   ]
  },
  {
   "cell_type": "code",
   "execution_count": 8,
   "metadata": {},
   "outputs": [],
   "source": [
    "def combo_analysis(pred_y, real_y):\n",
    "    return pd.concat(conf_matrix(pred_y, real_y), common_errors(pred_y, real_y), axis = 1)"
   ]
  },
  {
   "cell_type": "code",
   "execution_count": 9,
   "metadata": {},
   "outputs": [
    {
     "name": "stdout",
     "output_type": "stream",
     "text": [
      "time to fit:  74.96041941642761\n"
     ]
    }
   ],
   "source": [
    "t1 = time()\n",
    "\n",
    "knn = KNeighborsClassifier(n_jobs = -1)\n",
    "knn.fit(train_x, train_y)\n",
    "\n",
    "t2 = time()\n",
    "print('time to fit: ', (t2-t1))"
   ]
  },
  {
   "cell_type": "code",
   "execution_count": 10,
   "metadata": {},
   "outputs": [
    {
     "name": "stdout",
     "output_type": "stream",
     "text": [
      "score:  0.9688\n",
      "time to :  374.62475419044495\n"
     ]
    }
   ],
   "source": [
    "t1 = time()\n",
    "print('score: ', knn.score(test_x, test_y))\n",
    "\n",
    "t2 = time()\n",
    "print('time to score: ', (t2-t1))"
   ]
  },
  {
   "cell_type": "code",
   "execution_count": 11,
   "metadata": {},
   "outputs": [],
   "source": [
    "t1 = time()\n",
    "pred_y = knn.predict(test_x)\n",
    "t2 = time()\n",
    "print('time to predict: ' (t2 - t1))"
   ]
  },
  {
   "cell_type": "code",
   "execution_count": 31,
   "metadata": {},
   "outputs": [
    {
     "data": {
      "text/html": [
       "<div>\n",
       "<style scoped>\n",
       "    .dataframe tbody tr th:only-of-type {\n",
       "        vertical-align: middle;\n",
       "    }\n",
       "\n",
       "    .dataframe tbody tr th {\n",
       "        vertical-align: top;\n",
       "    }\n",
       "\n",
       "    .dataframe thead th {\n",
       "        text-align: right;\n",
       "    }\n",
       "</style>\n",
       "<table border=\"1\" class=\"dataframe\">\n",
       "  <thead>\n",
       "    <tr style=\"text-align: right;\">\n",
       "      <th></th>\n",
       "      <th>Accuracy</th>\n",
       "      <th>Actual_Value</th>\n",
       "      <th>False Negative</th>\n",
       "      <th>False Positive</th>\n",
       "      <th>Precision</th>\n",
       "      <th>Sensitivity</th>\n",
       "      <th>Specificity</th>\n",
       "      <th>True Negative</th>\n",
       "      <th>True Positive</th>\n",
       "    </tr>\n",
       "  </thead>\n",
       "  <tbody>\n",
       "    <tr>\n",
       "      <th>0</th>\n",
       "      <td>0.9957</td>\n",
       "      <td>0</td>\n",
       "      <td>6</td>\n",
       "      <td>37</td>\n",
       "      <td>0.963403</td>\n",
       "      <td>0.993878</td>\n",
       "      <td>0.995898</td>\n",
       "      <td>8983</td>\n",
       "      <td>974</td>\n",
       "    </tr>\n",
       "    <tr>\n",
       "      <th>1</th>\n",
       "      <td>0.9944</td>\n",
       "      <td>1</td>\n",
       "      <td>2</td>\n",
       "      <td>54</td>\n",
       "      <td>0.954507</td>\n",
       "      <td>0.998238</td>\n",
       "      <td>0.993909</td>\n",
       "      <td>8811</td>\n",
       "      <td>1133</td>\n",
       "    </tr>\n",
       "    <tr>\n",
       "      <th>2</th>\n",
       "      <td>0.9941</td>\n",
       "      <td>2</td>\n",
       "      <td>41</td>\n",
       "      <td>18</td>\n",
       "      <td>0.982161</td>\n",
       "      <td>0.960271</td>\n",
       "      <td>0.997993</td>\n",
       "      <td>8950</td>\n",
       "      <td>991</td>\n",
       "    </tr>\n",
       "    <tr>\n",
       "      <th>3</th>\n",
       "      <td>0.9930</td>\n",
       "      <td>3</td>\n",
       "      <td>34</td>\n",
       "      <td>36</td>\n",
       "      <td>0.964427</td>\n",
       "      <td>0.966337</td>\n",
       "      <td>0.995996</td>\n",
       "      <td>8954</td>\n",
       "      <td>976</td>\n",
       "    </tr>\n",
       "    <tr>\n",
       "      <th>4</th>\n",
       "      <td>0.9939</td>\n",
       "      <td>4</td>\n",
       "      <td>38</td>\n",
       "      <td>23</td>\n",
       "      <td>0.976215</td>\n",
       "      <td>0.961303</td>\n",
       "      <td>0.997450</td>\n",
       "      <td>8995</td>\n",
       "      <td>944</td>\n",
       "    </tr>\n",
       "    <tr>\n",
       "      <th>5</th>\n",
       "      <td>0.9939</td>\n",
       "      <td>5</td>\n",
       "      <td>30</td>\n",
       "      <td>31</td>\n",
       "      <td>0.965286</td>\n",
       "      <td>0.966368</td>\n",
       "      <td>0.996596</td>\n",
       "      <td>9077</td>\n",
       "      <td>862</td>\n",
       "    </tr>\n",
       "    <tr>\n",
       "      <th>6</th>\n",
       "      <td>0.9969</td>\n",
       "      <td>6</td>\n",
       "      <td>13</td>\n",
       "      <td>18</td>\n",
       "      <td>0.981308</td>\n",
       "      <td>0.986430</td>\n",
       "      <td>0.998009</td>\n",
       "      <td>9024</td>\n",
       "      <td>945</td>\n",
       "    </tr>\n",
       "    <tr>\n",
       "      <th>7</th>\n",
       "      <td>0.9920</td>\n",
       "      <td>7</td>\n",
       "      <td>40</td>\n",
       "      <td>40</td>\n",
       "      <td>0.961089</td>\n",
       "      <td>0.961089</td>\n",
       "      <td>0.995542</td>\n",
       "      <td>8932</td>\n",
       "      <td>988</td>\n",
       "    </tr>\n",
       "    <tr>\n",
       "      <th>8</th>\n",
       "      <td>0.9928</td>\n",
       "      <td>8</td>\n",
       "      <td>61</td>\n",
       "      <td>11</td>\n",
       "      <td>0.988095</td>\n",
       "      <td>0.937372</td>\n",
       "      <td>0.998781</td>\n",
       "      <td>9015</td>\n",
       "      <td>913</td>\n",
       "    </tr>\n",
       "    <tr>\n",
       "      <th>9</th>\n",
       "      <td>0.9909</td>\n",
       "      <td>9</td>\n",
       "      <td>47</td>\n",
       "      <td>44</td>\n",
       "      <td>0.956262</td>\n",
       "      <td>0.953419</td>\n",
       "      <td>0.995106</td>\n",
       "      <td>8947</td>\n",
       "      <td>962</td>\n",
       "    </tr>\n",
       "  </tbody>\n",
       "</table>\n",
       "</div>"
      ],
      "text/plain": [
       "   Accuracy  Actual_Value  False Negative  False Positive  Precision  \\\n",
       "0    0.9957             0               6              37   0.963403   \n",
       "1    0.9944             1               2              54   0.954507   \n",
       "2    0.9941             2              41              18   0.982161   \n",
       "3    0.9930             3              34              36   0.964427   \n",
       "4    0.9939             4              38              23   0.976215   \n",
       "5    0.9939             5              30              31   0.965286   \n",
       "6    0.9969             6              13              18   0.981308   \n",
       "7    0.9920             7              40              40   0.961089   \n",
       "8    0.9928             8              61              11   0.988095   \n",
       "9    0.9909             9              47              44   0.956262   \n",
       "\n",
       "   Sensitivity  Specificity  True Negative  True Positive  \n",
       "0     0.993878     0.995898           8983            974  \n",
       "1     0.998238     0.993909           8811           1133  \n",
       "2     0.960271     0.997993           8950            991  \n",
       "3     0.966337     0.995996           8954            976  \n",
       "4     0.961303     0.997450           8995            944  \n",
       "5     0.966368     0.996596           9077            862  \n",
       "6     0.986430     0.998009           9024            945  \n",
       "7     0.961089     0.995542           8932            988  \n",
       "8     0.937372     0.998781           9015            913  \n",
       "9     0.953419     0.995106           8947            962  "
      ]
     },
     "metadata": {},
     "output_type": "display_data"
    },
    {
     "name": "stdout",
     "output_type": "stream",
     "text": [
      "time to do conf_matrix:  0.4135465621948242\n"
     ]
    }
   ],
   "source": [
    "t1 = time()\n",
    "display(conf_matrix(pred_y, test_y))\n",
    "t2 = time()\n",
    "print('time to do conf_matrix: ', (t2 - t1))\n"
   ]
  },
  {
   "cell_type": "code",
   "execution_count": 30,
   "metadata": {},
   "outputs": [
    {
     "data": {
      "text/html": [
       "<div>\n",
       "<style scoped>\n",
       "    .dataframe tbody tr th:only-of-type {\n",
       "        vertical-align: middle;\n",
       "    }\n",
       "\n",
       "    .dataframe tbody tr th {\n",
       "        vertical-align: top;\n",
       "    }\n",
       "\n",
       "    .dataframe thead th {\n",
       "        text-align: right;\n",
       "    }\n",
       "</style>\n",
       "<table border=\"1\" class=\"dataframe\">\n",
       "  <thead>\n",
       "    <tr style=\"text-align: right;\">\n",
       "      <th></th>\n",
       "      <th>0</th>\n",
       "      <th>1</th>\n",
       "      <th>2</th>\n",
       "      <th>3</th>\n",
       "      <th>4</th>\n",
       "      <th>5</th>\n",
       "      <th>6</th>\n",
       "      <th>7</th>\n",
       "      <th>8</th>\n",
       "      <th>9</th>\n",
       "    </tr>\n",
       "    <tr>\n",
       "      <th>real_value</th>\n",
       "      <th></th>\n",
       "      <th></th>\n",
       "      <th></th>\n",
       "      <th></th>\n",
       "      <th></th>\n",
       "      <th></th>\n",
       "      <th></th>\n",
       "      <th></th>\n",
       "      <th></th>\n",
       "      <th></th>\n",
       "    </tr>\n",
       "  </thead>\n",
       "  <tbody>\n",
       "    <tr>\n",
       "      <th>0</th>\n",
       "      <td>0</td>\n",
       "      <td>1</td>\n",
       "      <td>1</td>\n",
       "      <td>0</td>\n",
       "      <td>0</td>\n",
       "      <td>1</td>\n",
       "      <td>2</td>\n",
       "      <td>1</td>\n",
       "      <td>0</td>\n",
       "      <td>0</td>\n",
       "    </tr>\n",
       "    <tr>\n",
       "      <th>1</th>\n",
       "      <td>0</td>\n",
       "      <td>0</td>\n",
       "      <td>2</td>\n",
       "      <td>0</td>\n",
       "      <td>0</td>\n",
       "      <td>0</td>\n",
       "      <td>0</td>\n",
       "      <td>0</td>\n",
       "      <td>0</td>\n",
       "      <td>0</td>\n",
       "    </tr>\n",
       "    <tr>\n",
       "      <th>2</th>\n",
       "      <td>11</td>\n",
       "      <td>8</td>\n",
       "      <td>0</td>\n",
       "      <td>2</td>\n",
       "      <td>1</td>\n",
       "      <td>0</td>\n",
       "      <td>1</td>\n",
       "      <td>15</td>\n",
       "      <td>3</td>\n",
       "      <td>0</td>\n",
       "    </tr>\n",
       "    <tr>\n",
       "      <th>3</th>\n",
       "      <td>0</td>\n",
       "      <td>3</td>\n",
       "      <td>3</td>\n",
       "      <td>0</td>\n",
       "      <td>1</td>\n",
       "      <td>13</td>\n",
       "      <td>1</td>\n",
       "      <td>6</td>\n",
       "      <td>3</td>\n",
       "      <td>4</td>\n",
       "    </tr>\n",
       "    <tr>\n",
       "      <th>4</th>\n",
       "      <td>3</td>\n",
       "      <td>7</td>\n",
       "      <td>0</td>\n",
       "      <td>0</td>\n",
       "      <td>0</td>\n",
       "      <td>0</td>\n",
       "      <td>4</td>\n",
       "      <td>2</td>\n",
       "      <td>1</td>\n",
       "      <td>21</td>\n",
       "    </tr>\n",
       "    <tr>\n",
       "      <th>5</th>\n",
       "      <td>5</td>\n",
       "      <td>0</td>\n",
       "      <td>0</td>\n",
       "      <td>12</td>\n",
       "      <td>2</td>\n",
       "      <td>0</td>\n",
       "      <td>4</td>\n",
       "      <td>1</td>\n",
       "      <td>2</td>\n",
       "      <td>4</td>\n",
       "    </tr>\n",
       "    <tr>\n",
       "      <th>6</th>\n",
       "      <td>5</td>\n",
       "      <td>3</td>\n",
       "      <td>0</td>\n",
       "      <td>0</td>\n",
       "      <td>3</td>\n",
       "      <td>2</td>\n",
       "      <td>0</td>\n",
       "      <td>0</td>\n",
       "      <td>0</td>\n",
       "      <td>0</td>\n",
       "    </tr>\n",
       "    <tr>\n",
       "      <th>7</th>\n",
       "      <td>0</td>\n",
       "      <td>22</td>\n",
       "      <td>4</td>\n",
       "      <td>0</td>\n",
       "      <td>3</td>\n",
       "      <td>0</td>\n",
       "      <td>0</td>\n",
       "      <td>0</td>\n",
       "      <td>0</td>\n",
       "      <td>11</td>\n",
       "    </tr>\n",
       "    <tr>\n",
       "      <th>8</th>\n",
       "      <td>8</td>\n",
       "      <td>3</td>\n",
       "      <td>5</td>\n",
       "      <td>13</td>\n",
       "      <td>6</td>\n",
       "      <td>12</td>\n",
       "      <td>5</td>\n",
       "      <td>5</td>\n",
       "      <td>0</td>\n",
       "      <td>4</td>\n",
       "    </tr>\n",
       "    <tr>\n",
       "      <th>9</th>\n",
       "      <td>5</td>\n",
       "      <td>7</td>\n",
       "      <td>3</td>\n",
       "      <td>9</td>\n",
       "      <td>7</td>\n",
       "      <td>3</td>\n",
       "      <td>1</td>\n",
       "      <td>10</td>\n",
       "      <td>2</td>\n",
       "      <td>0</td>\n",
       "    </tr>\n",
       "  </tbody>\n",
       "</table>\n",
       "</div>"
      ],
      "text/plain": [
       "             0   1  2   3  4   5  6   7  8   9\n",
       "real_value                                    \n",
       "0            0   1  1   0  0   1  2   1  0   0\n",
       "1            0   0  2   0  0   0  0   0  0   0\n",
       "2           11   8  0   2  1   0  1  15  3   0\n",
       "3            0   3  3   0  1  13  1   6  3   4\n",
       "4            3   7  0   0  0   0  4   2  1  21\n",
       "5            5   0  0  12  2   0  4   1  2   4\n",
       "6            5   3  0   0  3   2  0   0  0   0\n",
       "7            0  22  4   0  3   0  0   0  0  11\n",
       "8            8   3  5  13  6  12  5   5  0   4\n",
       "9            5   7  3   9  7   3  1  10  2   0"
      ]
     },
     "metadata": {},
     "output_type": "display_data"
    },
    {
     "name": "stdout",
     "output_type": "stream",
     "text": [
      "time to find common errors:  0.03353738784790039\n"
     ]
    }
   ],
   "source": [
    "t1 = time()\n",
    "display(common_errors(pred_y, test_y))\n",
    "t2 = time()\n",
    "print('time to find common errors: ', (t2 - t1))\n"
   ]
  },
  {
   "cell_type": "code",
   "execution_count": 32,
   "metadata": {},
   "outputs": [
    {
     "ename": "TypeError",
     "evalue": "concat() got multiple values for argument 'axis'",
     "output_type": "error",
     "traceback": [
      "\u001b[0;31m---------------------------------------------------------------------------\u001b[0m",
      "\u001b[0;31mTypeError\u001b[0m                                 Traceback (most recent call last)",
      "\u001b[0;32m<ipython-input-32-332dab9c0e48>\u001b[0m in \u001b[0;36m<module>\u001b[0;34m()\u001b[0m\n\u001b[1;32m      1\u001b[0m \u001b[0mt1\u001b[0m \u001b[0;34m=\u001b[0m \u001b[0mtime\u001b[0m\u001b[0;34m(\u001b[0m\u001b[0;34m)\u001b[0m\u001b[0;34m\u001b[0m\u001b[0m\n\u001b[0;32m----> 2\u001b[0;31m \u001b[0mcombo_analysis\u001b[0m\u001b[0;34m(\u001b[0m\u001b[0mpred_y\u001b[0m\u001b[0;34m,\u001b[0m \u001b[0mtest_y\u001b[0m\u001b[0;34m)\u001b[0m\u001b[0;34m\u001b[0m\u001b[0m\n\u001b[0m\u001b[1;32m      3\u001b[0m \u001b[0mt2\u001b[0m \u001b[0;34m=\u001b[0m \u001b[0mtime\u001b[0m\u001b[0;34m(\u001b[0m\u001b[0;34m)\u001b[0m\u001b[0;34m\u001b[0m\u001b[0m\n\u001b[1;32m      4\u001b[0m \u001b[0mprint\u001b[0m\u001b[0;34m(\u001b[0m\u001b[0;34m'time to do both: '\u001b[0m\u001b[0;34m,\u001b[0m \u001b[0;34m(\u001b[0m\u001b[0mt2\u001b[0m \u001b[0;34m-\u001b[0m \u001b[0mt1\u001b[0m\u001b[0;34m)\u001b[0m\u001b[0;34m)\u001b[0m\u001b[0;34m\u001b[0m\u001b[0m\n",
      "\u001b[0;32m<ipython-input-8-055575d8aeb7>\u001b[0m in \u001b[0;36mcombo_analysis\u001b[0;34m(pred_y, real_y)\u001b[0m\n\u001b[1;32m      1\u001b[0m \u001b[0;32mdef\u001b[0m \u001b[0mcombo_analysis\u001b[0m\u001b[0;34m(\u001b[0m\u001b[0mpred_y\u001b[0m\u001b[0;34m,\u001b[0m \u001b[0mreal_y\u001b[0m\u001b[0;34m)\u001b[0m\u001b[0;34m:\u001b[0m\u001b[0;34m\u001b[0m\u001b[0m\n\u001b[0;32m----> 2\u001b[0;31m     \u001b[0;32mreturn\u001b[0m \u001b[0mpd\u001b[0m\u001b[0;34m.\u001b[0m\u001b[0mconcat\u001b[0m\u001b[0;34m(\u001b[0m\u001b[0mconf_matrix\u001b[0m\u001b[0;34m(\u001b[0m\u001b[0mpred_y\u001b[0m\u001b[0;34m,\u001b[0m \u001b[0mreal_y\u001b[0m\u001b[0;34m)\u001b[0m\u001b[0;34m,\u001b[0m \u001b[0mcommon_errors\u001b[0m\u001b[0;34m(\u001b[0m\u001b[0mpred_y\u001b[0m\u001b[0;34m,\u001b[0m \u001b[0mreal_y\u001b[0m\u001b[0;34m)\u001b[0m\u001b[0;34m,\u001b[0m \u001b[0maxis\u001b[0m \u001b[0;34m=\u001b[0m \u001b[0;36m1\u001b[0m\u001b[0;34m)\u001b[0m\u001b[0;34m\u001b[0m\u001b[0m\n\u001b[0m",
      "\u001b[0;31mTypeError\u001b[0m: concat() got multiple values for argument 'axis'"
     ]
    }
   ],
   "source": [
    "t1 = time()\n",
    "combo_analysis(pred_y, test_y)\n",
    "t2 = time()\n",
    "print('time to do both: ', (t2 - t1))\n"
   ]
  },
  {
   "cell_type": "code",
   "execution_count": 14,
   "metadata": {},
   "outputs": [
    {
     "data": {
      "text/plain": [
       "(10000, 10000)"
      ]
     },
     "execution_count": 14,
     "metadata": {},
     "output_type": "execute_result"
    }
   ],
   "source": [
    "len(pred_y), len(test_y)"
   ]
  },
  {
   "cell_type": "code",
   "execution_count": 25,
   "metadata": {},
   "outputs": [],
   "source": [
    "df = pd.DataFrame()"
   ]
  },
  {
   "cell_type": "code",
   "execution_count": null,
   "metadata": {},
   "outputs": [],
   "source": [
    "df.set_index()"
   ]
  }
 ],
 "metadata": {
  "kernelspec": {
   "display_name": "Python 3",
   "language": "python",
   "name": "python3"
  },
  "language_info": {
   "codemirror_mode": {
    "name": "ipython",
    "version": 3
   },
   "file_extension": ".py",
   "mimetype": "text/x-python",
   "name": "python",
   "nbconvert_exporter": "python",
   "pygments_lexer": "ipython3",
   "version": "3.5.2"
  }
 },
 "nbformat": 4,
 "nbformat_minor": 2
}
